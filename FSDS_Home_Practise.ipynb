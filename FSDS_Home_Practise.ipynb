{
 "cells": [
  {
   "cell_type": "code",
   "execution_count": 3,
   "id": "649515e0-59ae-4d18-b58f-0c793afe38b7",
   "metadata": {},
   "outputs": [
    {
     "data": {
      "text/plain": [
       "'#this is not a comment as it is enclosed in double quotations'"
      ]
     },
     "execution_count": 3,
     "metadata": {},
     "output_type": "execute_result"
    }
   ],
   "source": [
    "#this is the first comment\n",
    "spam = 1 #this is the second comment\n",
    "text = \"#this is not a comment as it is enclosed in double quotations\"\n",
    "text"
   ]
  },
  {
   "cell_type": "code",
   "execution_count": 9,
   "id": "e2bfe167-f47e-494d-84be-f476dd0e94f2",
   "metadata": {},
   "outputs": [
    {
     "data": {
      "text/plain": [
       "4"
      ]
     },
     "execution_count": 9,
     "metadata": {},
     "output_type": "execute_result"
    }
   ],
   "source": [
    "#NUMBERS\n",
    "2+2"
   ]
  },
  {
   "cell_type": "code",
   "execution_count": 7,
   "id": "84fcc52f-57b9-49bf-8fcd-6a70b2429f33",
   "metadata": {},
   "outputs": [
    {
     "data": {
      "text/plain": [
       "244"
      ]
     },
     "execution_count": 7,
     "metadata": {},
     "output_type": "execute_result"
    }
   ],
   "source": [
    "50*5-6"
   ]
  },
  {
   "cell_type": "code",
   "execution_count": 8,
   "id": "6e7dbce5-77a8-40bf-ba95-a2b07c8e72d9",
   "metadata": {},
   "outputs": [
    {
     "data": {
      "text/plain": [
       "248.5"
      ]
     },
     "execution_count": 8,
     "metadata": {},
     "output_type": "execute_result"
    }
   ],
   "source": [
    "50*5-6/4"
   ]
  },
  {
   "cell_type": "code",
   "execution_count": 10,
   "id": "0549255b-6bde-4f68-b796-73f5402cc95a",
   "metadata": {},
   "outputs": [
    {
     "data": {
      "text/plain": [
       "1.6"
      ]
     },
     "execution_count": 10,
     "metadata": {},
     "output_type": "execute_result"
    }
   ],
   "source": [
    "8/5 #divison always returns a floating point no."
   ]
  },
  {
   "cell_type": "code",
   "execution_count": 11,
   "id": "afeddb89-0e5b-49c6-b8a9-4a46497f15f1",
   "metadata": {},
   "outputs": [
    {
     "data": {
      "text/plain": [
       "5"
      ]
     },
     "execution_count": 11,
     "metadata": {},
     "output_type": "execute_result"
    }
   ],
   "source": [
    "17 // 3 #floor divison"
   ]
  },
  {
   "cell_type": "code",
   "execution_count": 12,
   "id": "be77f930-5445-4763-b51c-6157f44ce2d1",
   "metadata": {},
   "outputs": [
    {
     "data": {
      "text/plain": [
       "2"
      ]
     },
     "execution_count": 12,
     "metadata": {},
     "output_type": "execute_result"
    }
   ],
   "source": [
    "17 % 3 #returns remainder of div"
   ]
  },
  {
   "cell_type": "code",
   "execution_count": 13,
   "id": "0703da08-ad09-4473-b7bf-47711e71077e",
   "metadata": {},
   "outputs": [
    {
     "data": {
      "text/plain": [
       "17"
      ]
     },
     "execution_count": 13,
     "metadata": {},
     "output_type": "execute_result"
    }
   ],
   "source": [
    "5 * 3 + 2 #floored * divisor + remainder"
   ]
  },
  {
   "cell_type": "code",
   "execution_count": 14,
   "id": "5f3c8712-1367-491b-a235-e6236f9d8efc",
   "metadata": {},
   "outputs": [
    {
     "data": {
      "text/plain": [
       "6624"
      ]
     },
     "execution_count": 14,
     "metadata": {},
     "output_type": "execute_result"
    }
   ],
   "source": [
    "width = 69\n",
    "height = 96\n",
    "width * height"
   ]
  },
  {
   "cell_type": "code",
   "execution_count": 15,
   "id": "7c8c49bf-fceb-4455-91a5-f6966504addb",
   "metadata": {},
   "outputs": [
    {
     "ename": "NameError",
     "evalue": "name 'n' is not defined",
     "output_type": "error",
     "traceback": [
      "\u001b[1;31m---------------------------------------------------------------------------\u001b[0m",
      "\u001b[1;31mNameError\u001b[0m                                 Traceback (most recent call last)",
      "Cell \u001b[1;32mIn[15], line 1\u001b[0m\n\u001b[1;32m----> 1\u001b[0m n\n",
      "\u001b[1;31mNameError\u001b[0m: name 'n' is not defined"
     ]
    }
   ],
   "source": [
    "n"
   ]
  },
  {
   "cell_type": "code",
   "execution_count": 16,
   "id": "44d380e9-b5aa-4715-a948-cc7bf522e744",
   "metadata": {},
   "outputs": [
    {
     "data": {
      "text/plain": [
       "19.5"
      ]
     },
     "execution_count": 16,
     "metadata": {},
     "output_type": "execute_result"
    }
   ],
   "source": [
    "5 * 3.7 + 1"
   ]
  },
  {
   "cell_type": "code",
   "execution_count": 17,
   "id": "c6db900f-773a-41b7-a900-b17e2489d2b2",
   "metadata": {},
   "outputs": [
    {
     "data": {
      "text/plain": [
       "97.5"
      ]
     },
     "execution_count": 17,
     "metadata": {},
     "output_type": "execute_result"
    }
   ],
   "source": [
    "5 * _"
   ]
  },
  {
   "cell_type": "code",
   "execution_count": 22,
   "id": "9a8aae62-ac23-4ab2-b0a8-3d774dc139d0",
   "metadata": {},
   "outputs": [
    {
     "data": {
      "text/plain": [
       "12.5625"
      ]
     },
     "execution_count": 22,
     "metadata": {},
     "output_type": "execute_result"
    }
   ],
   "source": [
    "price = 100.50\n",
    "tax = 12.5/100\n",
    "price * tax"
   ]
  },
  {
   "cell_type": "code",
   "execution_count": 24,
   "id": "f2634b26-8246-4933-8e0e-2146ba304c2a",
   "metadata": {},
   "outputs": [
    {
     "data": {
      "text/plain": [
       "113.0625"
      ]
     },
     "execution_count": 24,
     "metadata": {},
     "output_type": "execute_result"
    }
   ],
   "source": [
    "price + _"
   ]
  },
  {
   "cell_type": "code",
   "execution_count": 25,
   "id": "9b6b2202-3a0a-486f-8d64-b8e7b91e9285",
   "metadata": {},
   "outputs": [
    {
     "data": {
      "text/plain": [
       "113.06"
      ]
     },
     "execution_count": 25,
     "metadata": {},
     "output_type": "execute_result"
    }
   ],
   "source": [
    "round(_,2)"
   ]
  },
  {
   "cell_type": "code",
   "execution_count": 26,
   "id": "33b7c659-559a-4ead-9f79-9d5838d17dfc",
   "metadata": {},
   "outputs": [
    {
     "data": {
      "text/plain": [
       "'spam eggs'"
      ]
     },
     "execution_count": 26,
     "metadata": {},
     "output_type": "execute_result"
    }
   ],
   "source": [
    "#TEXT\n",
    "'spam eggs' #single qoutes"
   ]
  },
  {
   "cell_type": "code",
   "execution_count": 27,
   "id": "bc20d92b-5547-4b16-96a5-2cf7d0c88cb8",
   "metadata": {},
   "outputs": [
    {
     "data": {
      "text/plain": [
       "'Paris rabbit got your back :)! Yay!'"
      ]
     },
     "execution_count": 27,
     "metadata": {},
     "output_type": "execute_result"
    }
   ],
   "source": [
    "\"Paris rabbit got your back :)! Yay!\" #double quotes"
   ]
  },
  {
   "cell_type": "code",
   "execution_count": 28,
   "id": "bb090974-2b75-4a4e-8755-7e3f4b906351",
   "metadata": {},
   "outputs": [
    {
     "data": {
      "text/plain": [
       "'1975'"
      ]
     },
     "execution_count": 28,
     "metadata": {},
     "output_type": "execute_result"
    }
   ],
   "source": [
    "'1975' #no. can aslo be included in qoutes"
   ]
  },
  {
   "cell_type": "code",
   "execution_count": 29,
   "id": "4083b799-59e6-4a98-afbc-9c8f3c81a830",
   "metadata": {},
   "outputs": [
    {
     "data": {
      "text/plain": [
       "\"doesn't\""
      ]
     },
     "execution_count": 29,
     "metadata": {},
     "output_type": "execute_result"
    }
   ],
   "source": [
    "'doesn\\'t' # use \\' to escape the single quote"
   ]
  },
  {
   "cell_type": "code",
   "execution_count": 30,
   "id": "339e20f7-d864-419f-a33a-1e2fcf1345ac",
   "metadata": {},
   "outputs": [
    {
     "data": {
      "text/plain": [
       "\"doesn't\""
      ]
     },
     "execution_count": 30,
     "metadata": {},
     "output_type": "execute_result"
    }
   ],
   "source": [
    "\"doesn't\" # ...or use double quotes instead "
   ]
  },
  {
   "cell_type": "code",
   "execution_count": 33,
   "id": "e7b8d1d5-7d61-4f2b-8280-582586b49a6a",
   "metadata": {},
   "outputs": [
    {
     "data": {
      "text/plain": [
       "'Yes,\" they said.'"
      ]
     },
     "execution_count": 33,
     "metadata": {},
     "output_type": "execute_result"
    }
   ],
   "source": [
    "'Yes,\" they said.' "
   ]
  },
  {
   "cell_type": "code",
   "execution_count": 34,
   "id": "24ce158e-db65-4ba6-9b40-9b96a5073845",
   "metadata": {},
   "outputs": [
    {
     "data": {
      "text/plain": [
       "'\"Yes, \" they said.'"
      ]
     },
     "execution_count": 34,
     "metadata": {},
     "output_type": "execute_result"
    }
   ],
   "source": [
    "\"\\\"Yes, \\\" they said.\" "
   ]
  },
  {
   "cell_type": "code",
   "execution_count": 35,
   "id": "f5c18d75-e660-480b-a57b-ca7daf607ce4",
   "metadata": {},
   "outputs": [
    {
     "data": {
      "text/plain": [
       "'\"Isn\\'t,\" they said.'"
      ]
     },
     "execution_count": 35,
     "metadata": {},
     "output_type": "execute_result"
    }
   ],
   "source": [
    "'\"Isn\\'t,\" they said.'"
   ]
  },
  {
   "cell_type": "code",
   "execution_count": 40,
   "id": "7069098b-043f-4fb4-8358-85350903532d",
   "metadata": {},
   "outputs": [
    {
     "name": "stdout",
     "output_type": "stream",
     "text": [
      "First line.\n",
      " Second line.\n"
     ]
    }
   ],
   "source": [
    "S = 'First line.\\n Second line.' # \\n means newline \n",
    "print(S)"
   ]
  },
  {
   "cell_type": "code",
   "execution_count": 41,
   "id": "8202f8a5-6179-4dfb-a82a-668c815f5368",
   "metadata": {},
   "outputs": [
    {
     "name": "stdout",
     "output_type": "stream",
     "text": [
      "C:\\some\n",
      "ame\n"
     ]
    },
    {
     "name": "stderr",
     "output_type": "stream",
     "text": [
      "<>:1: SyntaxWarning: invalid escape sequence '\\s'\n",
      "<>:1: SyntaxWarning: invalid escape sequence '\\s'\n",
      "C:\\Users\\Affan\\AppData\\Local\\Temp\\ipykernel_9596\\3441249919.py:1: SyntaxWarning: invalid escape sequence '\\s'\n",
      "  print('C:\\some\\name')\n"
     ]
    }
   ],
   "source": [
    "print('C:\\some\\name')"
   ]
  },
  {
   "cell_type": "code",
   "execution_count": 42,
   "id": "1eb0e49c-4390-427e-8585-ff6d6d09471f",
   "metadata": {},
   "outputs": [
    {
     "name": "stdout",
     "output_type": "stream",
     "text": [
      "C:\\some\\name\n"
     ]
    }
   ],
   "source": [
    "print(r'C:\\some\\name')"
   ]
  },
  {
   "cell_type": "code",
   "execution_count": 45,
   "id": "e1aa653d-4542-47d5-80c6-0b81c4c405d3",
   "metadata": {},
   "outputs": [
    {
     "name": "stdout",
     "output_type": "stream",
     "text": [
      "\n",
      "\n",
      "Usage: thingy [OPTIONS] \n",
      "-h                        DISPLAY THIS USAGE MESSAGE\n",
      "-H hostname                HOSTNAME TO CONNECT TO\n",
      "\n",
      "\n"
     ]
    }
   ],
   "source": [
    "print(\"\"\"\n",
    "... \n",
    "Usage: thingy [OPTIONS] \n",
    "-h                        DISPLAY THIS USAGE MESSAGE\n",
    "-H hostname                HOSTNAME TO CONNECT TO\n",
    "...\n",
    "\"\"\")"
   ]
  },
  {
   "cell_type": "code",
   "execution_count": 47,
   "id": "ffbb4303-30e0-4387-acd5-13c28eaee3a8",
   "metadata": {},
   "outputs": [
    {
     "data": {
      "text/plain": [
       "'unununranium'"
      ]
     },
     "execution_count": 47,
     "metadata": {},
     "output_type": "execute_result"
    }
   ],
   "source": [
    "3 * 'un' + 'ranium'"
   ]
  },
  {
   "cell_type": "code",
   "execution_count": 49,
   "id": "195670cb-8628-4cb7-964c-42bd18fc4d5a",
   "metadata": {},
   "outputs": [
    {
     "data": {
      "text/plain": [
       "'Put several strings within parentheses'"
      ]
     },
     "execution_count": 49,
     "metadata": {},
     "output_type": "execute_result"
    }
   ],
   "source": [
    "text = ('Put several strings within parentheses')\n",
    "text"
   ]
  },
  {
   "cell_type": "code",
   "execution_count": 51,
   "id": "273a10e0-2ab0-4182-9d8a-5240c68f67e0",
   "metadata": {},
   "outputs": [
    {
     "data": {
      "text/plain": [
       "'P'"
      ]
     },
     "execution_count": 51,
     "metadata": {},
     "output_type": "execute_result"
    }
   ],
   "source": [
    "word = 'Python'\n",
    "word[0]"
   ]
  },
  {
   "cell_type": "code",
   "execution_count": 52,
   "id": "ac63f8a9-fb57-43d4-9eb3-05a8665e2743",
   "metadata": {},
   "outputs": [
    {
     "data": {
      "text/plain": [
       "'t'"
      ]
     },
     "execution_count": 52,
     "metadata": {},
     "output_type": "execute_result"
    }
   ],
   "source": [
    "word[2]"
   ]
  },
  {
   "cell_type": "code",
   "execution_count": 53,
   "id": "0a99f52c-22c1-4843-ae4d-7d95efe2b881",
   "metadata": {},
   "outputs": [
    {
     "ename": "IndexError",
     "evalue": "string index out of range",
     "output_type": "error",
     "traceback": [
      "\u001b[1;31m---------------------------------------------------------------------------\u001b[0m",
      "\u001b[1;31mIndexError\u001b[0m                                Traceback (most recent call last)",
      "Cell \u001b[1;32mIn[53], line 1\u001b[0m\n\u001b[1;32m----> 1\u001b[0m word[\u001b[38;5;241m10\u001b[39m]\n",
      "\u001b[1;31mIndexError\u001b[0m: string index out of range"
     ]
    }
   ],
   "source": [
    "word[10]"
   ]
  },
  {
   "cell_type": "code",
   "execution_count": 54,
   "id": "5b9c2db9-4cfc-44f6-98b5-52e716637761",
   "metadata": {},
   "outputs": [
    {
     "data": {
      "text/plain": [
       "'n'"
      ]
     },
     "execution_count": 54,
     "metadata": {},
     "output_type": "execute_result"
    }
   ],
   "source": [
    "word[-1]"
   ]
  },
  {
   "cell_type": "code",
   "execution_count": 55,
   "id": "75741aca-55ac-49e0-9e5e-2febaf8408d2",
   "metadata": {},
   "outputs": [
    {
     "data": {
      "text/plain": [
       "'P'"
      ]
     },
     "execution_count": 55,
     "metadata": {},
     "output_type": "execute_result"
    }
   ],
   "source": [
    "word[-6]"
   ]
  },
  {
   "cell_type": "code",
   "execution_count": 56,
   "id": "5b5ec6da-56f2-4431-a56a-f198f84c8bbc",
   "metadata": {},
   "outputs": [
    {
     "data": {
      "text/plain": [
       "'Py'"
      ]
     },
     "execution_count": 56,
     "metadata": {},
     "output_type": "execute_result"
    }
   ],
   "source": [
    "word[0:2]"
   ]
  },
  {
   "cell_type": "code",
   "execution_count": 57,
   "id": "313f85ac-6114-43af-bb99-7cb1ba517c10",
   "metadata": {},
   "outputs": [
    {
     "data": {
      "text/plain": [
       "'hon'"
      ]
     },
     "execution_count": 57,
     "metadata": {},
     "output_type": "execute_result"
    }
   ],
   "source": [
    "word[3:6]"
   ]
  },
  {
   "cell_type": "code",
   "execution_count": 58,
   "id": "3b982700-699c-4fe7-bbc9-2c673ac7a342",
   "metadata": {},
   "outputs": [
    {
     "data": {
      "text/plain": [
       "'Pyt'"
      ]
     },
     "execution_count": 58,
     "metadata": {},
     "output_type": "execute_result"
    }
   ],
   "source": [
    "word[:3]"
   ]
  },
  {
   "cell_type": "code",
   "execution_count": 59,
   "id": "18204fec-fc19-4cab-8556-7a19b0d27539",
   "metadata": {},
   "outputs": [
    {
     "data": {
      "text/plain": [
       "'on'"
      ]
     },
     "execution_count": 59,
     "metadata": {},
     "output_type": "execute_result"
    }
   ],
   "source": [
    "word[4:]"
   ]
  },
  {
   "cell_type": "code",
   "execution_count": 60,
   "id": "af95e2d9-c53a-4ce9-aa3e-84ff45c19508",
   "metadata": {},
   "outputs": [
    {
     "data": {
      "text/plain": [
       "'Python'"
      ]
     },
     "execution_count": 60,
     "metadata": {},
     "output_type": "execute_result"
    }
   ],
   "source": [
    "word[:4] + word [4:] #Note how the start is always included, and the end always excluded. This makes sure that s[i] + s[i:] is always equal to ful string"
   ]
  },
  {
   "cell_type": "code",
   "execution_count": 61,
   "id": "9d33d99f-b2ec-436d-b794-cbc0af964f18",
   "metadata": {},
   "outputs": [
    {
     "ename": "IndexError",
     "evalue": "string index out of range",
     "output_type": "error",
     "traceback": [
      "\u001b[1;31m---------------------------------------------------------------------------\u001b[0m",
      "\u001b[1;31mIndexError\u001b[0m                                Traceback (most recent call last)",
      "Cell \u001b[1;32mIn[61], line 1\u001b[0m\n\u001b[1;32m----> 1\u001b[0m word[\u001b[38;5;241m42\u001b[39m]\n",
      "\u001b[1;31mIndexError\u001b[0m: string index out of range"
     ]
    }
   ],
   "source": [
    "word[42] #out of range "
   ]
  },
  {
   "cell_type": "code",
   "execution_count": 62,
   "id": "1eb7548e-0042-4408-a222-872dd81a17d5",
   "metadata": {},
   "outputs": [
    {
     "data": {
      "text/plain": [
       "'on'"
      ]
     },
     "execution_count": 62,
     "metadata": {},
     "output_type": "execute_result"
    }
   ],
   "source": [
    "word[4:42] #within range to out of range"
   ]
  },
  {
   "cell_type": "code",
   "execution_count": 63,
   "id": "9ad3e61e-72a2-4160-9a92-3361053d36ad",
   "metadata": {},
   "outputs": [
    {
     "data": {
      "text/plain": [
       "''"
      ]
     },
     "execution_count": 63,
     "metadata": {},
     "output_type": "execute_result"
    }
   ],
   "source": [
    "word[42:]"
   ]
  },
  {
   "cell_type": "code",
   "execution_count": 64,
   "id": "1ab42cb4-22d6-4a05-b2cd-83ea922fbc8c",
   "metadata": {},
   "outputs": [
    {
     "ename": "TypeError",
     "evalue": "'str' object does not support item assignment",
     "output_type": "error",
     "traceback": [
      "\u001b[1;31m---------------------------------------------------------------------------\u001b[0m",
      "\u001b[1;31mTypeError\u001b[0m                                 Traceback (most recent call last)",
      "Cell \u001b[1;32mIn[64], line 1\u001b[0m\n\u001b[1;32m----> 1\u001b[0m word[\u001b[38;5;241m0\u001b[39m]\u001b[38;5;241m=\u001b[39m\u001b[38;5;124m\"\u001b[39m\u001b[38;5;124mJ\u001b[39m\u001b[38;5;124m\"\u001b[39m\n",
      "\u001b[1;31mTypeError\u001b[0m: 'str' object does not support item assignment"
     ]
    }
   ],
   "source": [
    "word[0]=\"J\""
   ]
  },
  {
   "cell_type": "code",
   "execution_count": 67,
   "id": "77823d76-792c-4032-8360-8c8ac7fe1e27",
   "metadata": {},
   "outputs": [
    {
     "data": {
      "text/plain": [
       "'Jython'"
      ]
     },
     "execution_count": 67,
     "metadata": {},
     "output_type": "execute_result"
    }
   ],
   "source": [
    "'J' + word[1:]"
   ]
  },
  {
   "cell_type": "code",
   "execution_count": 68,
   "id": "3b66360e-d94b-4c53-99ba-1a1d16d634dd",
   "metadata": {},
   "outputs": [
    {
     "data": {
      "text/plain": [
       "34"
      ]
     },
     "execution_count": 68,
     "metadata": {},
     "output_type": "execute_result"
    }
   ],
   "source": [
    "s = 'supercalifragilisticexpialidocious'\n",
    "len(s) "
   ]
  },
  {
   "cell_type": "code",
   "execution_count": 69,
   "id": "872c3a12-beec-44f4-93a3-688f41525094",
   "metadata": {},
   "outputs": [
    {
     "data": {
      "text/plain": [
       "'Pypy'"
      ]
     },
     "execution_count": 69,
     "metadata": {},
     "output_type": "execute_result"
    }
   ],
   "source": [
    "word[:2] + 'py'"
   ]
  },
  {
   "cell_type": "code",
   "execution_count": 1,
   "id": "d5a9e1d7-7579-4afc-bb1e-07e867c531b3",
   "metadata": {},
   "outputs": [
    {
     "data": {
      "text/plain": [
       "[1, 4, 9, 16, 25]"
      ]
     },
     "execution_count": 1,
     "metadata": {},
     "output_type": "execute_result"
    }
   ],
   "source": [
    "#LIST\n",
    "squares = [1, 4, 9, 16, 25]\n",
    "squares"
   ]
  },
  {
   "cell_type": "code",
   "execution_count": 2,
   "id": "3f2a1ae0-21a5-4e92-8a7a-755ccabbc41b",
   "metadata": {},
   "outputs": [
    {
     "data": {
      "text/plain": [
       "1"
      ]
     },
     "execution_count": 2,
     "metadata": {},
     "output_type": "execute_result"
    }
   ],
   "source": [
    "squares[0]"
   ]
  },
  {
   "cell_type": "code",
   "execution_count": 3,
   "id": "06e47a54-2683-492f-9c1e-601004bd16a9",
   "metadata": {},
   "outputs": [
    {
     "data": {
      "text/plain": [
       "25"
      ]
     },
     "execution_count": 3,
     "metadata": {},
     "output_type": "execute_result"
    }
   ],
   "source": [
    "squares[-1]"
   ]
  },
  {
   "cell_type": "code",
   "execution_count": 4,
   "id": "efdfa4dc-a3d9-4b19-a070-00fa336d28b1",
   "metadata": {},
   "outputs": [
    {
     "data": {
      "text/plain": [
       "[1, 4]"
      ]
     },
     "execution_count": 4,
     "metadata": {},
     "output_type": "execute_result"
    }
   ],
   "source": [
    "squares[:-3]"
   ]
  },
  {
   "cell_type": "code",
   "execution_count": 5,
   "id": "636f4674-33de-496a-97cb-a4b227e26842",
   "metadata": {},
   "outputs": [
    {
     "data": {
      "text/plain": [
       "[1, 4, 9, 16, 25, 2, 5, 10, 17, 26]"
      ]
     },
     "execution_count": 5,
     "metadata": {},
     "output_type": "execute_result"
    }
   ],
   "source": [
    "squares + [2, 5, 10, 17, 26]"
   ]
  },
  {
   "cell_type": "code",
   "execution_count": 6,
   "id": "37bfe36c-e856-4e93-98ed-95c4c018868d",
   "metadata": {},
   "outputs": [
    {
     "data": {
      "text/plain": [
       "64"
      ]
     },
     "execution_count": 6,
     "metadata": {},
     "output_type": "execute_result"
    }
   ],
   "source": [
    "cubes = [1, 8, 27, 65, 125]\n",
    "4 **3"
   ]
  },
  {
   "cell_type": "code",
   "execution_count": 7,
   "id": "95c81ed7-a23e-453e-a599-4e63455f9e23",
   "metadata": {},
   "outputs": [
    {
     "data": {
      "text/plain": [
       "[1, 8, 27, 64, 125]"
      ]
     },
     "execution_count": 7,
     "metadata": {},
     "output_type": "execute_result"
    }
   ],
   "source": [
    "cubes[3] = _\n",
    "cubes"
   ]
  },
  {
   "cell_type": "code",
   "execution_count": 10,
   "id": "1fdee70c-0097-4bcd-940e-2ad53d9ab0bb",
   "metadata": {},
   "outputs": [
    {
     "data": {
      "text/plain": [
       "[1, 8, 27, 64, 125, 216]"
      ]
     },
     "execution_count": 10,
     "metadata": {},
     "output_type": "execute_result"
    }
   ],
   "source": [
    "cubes.append(216)\n",
    "cubes"
   ]
  },
  {
   "cell_type": "code",
   "execution_count": 11,
   "id": "bb4a2d7f-1802-4382-a80c-908c82cfaa08",
   "metadata": {},
   "outputs": [
    {
     "data": {
      "text/plain": [
       "[1, 8, 27, 64, 125, 216, 343]"
      ]
     },
     "execution_count": 11,
     "metadata": {},
     "output_type": "execute_result"
    }
   ],
   "source": [
    "cubes.append(7 **3)\n",
    "cubes"
   ]
  },
  {
   "cell_type": "code",
   "execution_count": 12,
   "id": "8f5a19ac-8625-4966-9ca1-764bae9bd331",
   "metadata": {},
   "outputs": [
    {
     "data": {
      "text/plain": [
       "['Red', 'Green', 'Blue', 'Alph']"
      ]
     },
     "execution_count": 12,
     "metadata": {},
     "output_type": "execute_result"
    }
   ],
   "source": [
    "rgb= [\"Red\", \"Green\", \"Blue\"] \n",
    "rgba=rgb \n",
    "id(rgb) == id(rgba)\n",
    "# they reference the same object \n",
    "rgba.append(\"Alph\") \n",
    "rgb \n"
   ]
  },
  {
   "cell_type": "code",
   "execution_count": 13,
   "id": "75d502ef-934a-4fcf-ae29-dcf95f85c7c1",
   "metadata": {},
   "outputs": [
    {
     "data": {
      "text/plain": [
       "['Red', 'Green', 'Blue', 'Alpha']"
      ]
     },
     "execution_count": 13,
     "metadata": {},
     "output_type": "execute_result"
    }
   ],
   "source": [
    "correct_rgba = rgba[:] \n",
    "correct_rgba [-1] = \"Alpha\" \n",
    "correct_rgba\n"
   ]
  },
  {
   "cell_type": "code",
   "execution_count": 14,
   "id": "f2b7e0a2-1803-4b4d-825c-74b6cb56798f",
   "metadata": {},
   "outputs": [
    {
     "data": {
      "text/plain": [
       "['Red', 'Green', 'Blue', 'Alph']"
      ]
     },
     "execution_count": 14,
     "metadata": {},
     "output_type": "execute_result"
    }
   ],
   "source": [
    "rgba"
   ]
  },
  {
   "cell_type": "code",
   "execution_count": 15,
   "id": "0fde0de9-208a-45cd-be84-74e15e4fb48c",
   "metadata": {},
   "outputs": [
    {
     "data": {
      "text/plain": [
       "['a', 'b', 'c', 'd', 'e', 'f', 'g']"
      ]
     },
     "execution_count": 15,
     "metadata": {},
     "output_type": "execute_result"
    }
   ],
   "source": [
    "letters = [ 'a','b','c','d','e','f','g']\n",
    "letters"
   ]
  },
  {
   "cell_type": "code",
   "execution_count": 16,
   "id": "89d6c2c2-6263-47a1-b755-59f4cdddf72b",
   "metadata": {},
   "outputs": [
    {
     "data": {
      "text/plain": [
       "['a', 'b', 'C', 'D', 'E', 'f', 'g']"
      ]
     },
     "execution_count": 16,
     "metadata": {},
     "output_type": "execute_result"
    }
   ],
   "source": [
    "letters[2:5]=['C','D','E'] #replace\n",
    "letters"
   ]
  },
  {
   "cell_type": "code",
   "execution_count": 17,
   "id": "ccf380bf-4d4e-4701-9879-1252f1682534",
   "metadata": {},
   "outputs": [
    {
     "data": {
      "text/plain": [
       "['a', 'b', 'f', 'g']"
      ]
     },
     "execution_count": 17,
     "metadata": {},
     "output_type": "execute_result"
    }
   ],
   "source": [
    "letters[2:5] = [] #remove\n",
    "letters"
   ]
  },
  {
   "cell_type": "code",
   "execution_count": 18,
   "id": "67013e6e-80a8-4c12-a2a1-54ab7f9b0ff5",
   "metadata": {},
   "outputs": [
    {
     "data": {
      "text/plain": [
       "[]"
      ]
     },
     "execution_count": 18,
     "metadata": {},
     "output_type": "execute_result"
    }
   ],
   "source": [
    "letters[:]=[]\n",
    "letters #clear"
   ]
  },
  {
   "cell_type": "code",
   "execution_count": 19,
   "id": "47469591-835f-43f9-a36b-e3bb854916f7",
   "metadata": {},
   "outputs": [
    {
     "data": {
      "text/plain": [
       "4"
      ]
     },
     "execution_count": 19,
     "metadata": {},
     "output_type": "execute_result"
    }
   ],
   "source": [
    "letters = [ 'a','b','c','d']\n",
    "len(letters)"
   ]
  },
  {
   "cell_type": "code",
   "execution_count": 21,
   "id": "e77d8e11-d4ce-4451-a748-dfb4b12cac45",
   "metadata": {},
   "outputs": [
    {
     "data": {
      "text/plain": [
       "[['a', 'b', 'c'], [1, 2, 3]]"
      ]
     },
     "execution_count": 21,
     "metadata": {},
     "output_type": "execute_result"
    }
   ],
   "source": [
    "a= [ 'a','b','c']\n",
    "n = [1,2,3]\n",
    "x=[a,n] #storing two list in one list\n",
    "x"
   ]
  },
  {
   "cell_type": "code",
   "execution_count": 22,
   "id": "53598d3d-41cf-4c7e-86a0-f30bd8921f4c",
   "metadata": {},
   "outputs": [
    {
     "data": {
      "text/plain": [
       "'b'"
      ]
     },
     "execution_count": 22,
     "metadata": {},
     "output_type": "execute_result"
    }
   ],
   "source": [
    "x[0][1]"
   ]
  },
  {
   "cell_type": "code",
   "execution_count": 23,
   "id": "f44974f6-c1c5-481c-9247-0045fdf99faf",
   "metadata": {},
   "outputs": [
    {
     "data": {
      "text/plain": [
       "3"
      ]
     },
     "execution_count": 23,
     "metadata": {},
     "output_type": "execute_result"
    }
   ],
   "source": [
    "x[1][2]"
   ]
  },
  {
   "cell_type": "code",
   "execution_count": 24,
   "id": "0075e7e0-da93-4c8b-8318-1376e688b0b7",
   "metadata": {},
   "outputs": [
    {
     "name": "stdout",
     "output_type": "stream",
     "text": [
      "0\n",
      "1\n",
      "1\n",
      "2\n",
      "3\n",
      "5\n",
      "8\n"
     ]
    }
   ],
   "source": [
    "#FIRST STEP TOWARDS PROGRAMMING\n",
    "#Fibonacci Series\n",
    "a, b = 0, 1\n",
    "while a<10:\n",
    "    print(a)\n",
    "    a,b = b, a+b"
   ]
  },
  {
   "cell_type": "code",
   "execution_count": 25,
   "id": "0bc210b4-6cfd-4102-addd-0bc6bb43d0d2",
   "metadata": {},
   "outputs": [
    {
     "name": "stdout",
     "output_type": "stream",
     "text": [
      "The value of i is 65536\n"
     ]
    }
   ],
   "source": [
    "i = 256 ** 2\n",
    "print('The value of i is', i)"
   ]
  },
  {
   "cell_type": "code",
   "execution_count": 27,
   "id": "ef042f2a-27bf-444a-8de7-c309b30325dd",
   "metadata": {},
   "outputs": [
    {
     "name": "stdout",
     "output_type": "stream",
     "text": [
      "0,1,1,2,3,5,8,13,21,34,55,89,144,233,377,610,987,"
     ]
    }
   ],
   "source": [
    "#if you want the fibonacci series o/p to be in the same line then\n",
    "\n",
    "a, b = 0, 1\n",
    "while a<1000:\n",
    "    print(a, end=',')\n",
    "    a,b = b, a+b"
   ]
  },
  {
   "cell_type": "code",
   "execution_count": null,
   "id": "4744d6e8-4b57-4d44-99e1-d4a992173d34",
   "metadata": {},
   "outputs": [],
   "source": []
  }
 ],
 "metadata": {
  "kernelspec": {
   "display_name": "Python 3 (ipykernel)",
   "language": "python",
   "name": "python3"
  },
  "language_info": {
   "codemirror_mode": {
    "name": "ipython",
    "version": 3
   },
   "file_extension": ".py",
   "mimetype": "text/x-python",
   "name": "python",
   "nbconvert_exporter": "python",
   "pygments_lexer": "ipython3",
   "version": "3.12.7"
  }
 },
 "nbformat": 4,
 "nbformat_minor": 5
}
